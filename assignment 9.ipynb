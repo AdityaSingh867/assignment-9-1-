{
 "cells": [
  {
   "cell_type": "markdown",
   "id": "8d6b5ba0-c4af-4005-b2e7-cb224398aaae",
   "metadata": {},
   "source": [
    "Q1. What is Abstraction in OOps? Explain with an example."
   ]
  },
  {
   "cell_type": "markdown",
   "id": "05bcd16a-ee2b-4e43-b770-e41921de9c7b",
   "metadata": {},
   "source": [
    "Ans 1 --"
   ]
  },
  {
   "cell_type": "markdown",
   "id": "3176e84d-00a0-4ea8-9767-f959e98cd675",
   "metadata": {},
   "source": [
    "The process of hiding the internel details of an appication from the outer world.\n",
    "only show service to the user.\n",
    "EXAMPLE : -"
   ]
  },
  {
   "cell_type": "raw",
   "id": "8286def2-452a-43fa-89ce-5b8ce063e1ef",
   "metadata": {},
   "source": [
    "call recive and call cancle button in mobile when call is come.\n",
    "we only see call recive (GREEN) button and call cancle (RED) button. but we don't see the code writen behind both [(GREEN) , (RED)] button."
   ]
  },
  {
   "cell_type": "markdown",
   "id": "262cad5b-b31c-429e-9572-7c976b409f6c",
   "metadata": {},
   "source": [
    "Q2. Differentiate between Abstraction and Encapsulation. Explain with an example."
   ]
  },
  {
   "cell_type": "markdown",
   "id": "a394d35f-52b6-4290-8eb5-81ec3be5fb73",
   "metadata": {},
   "source": [
    "Ans 2 --"
   ]
  },
  {
   "cell_type": "raw",
   "id": "8854a58f-c309-458f-8395-1f15359c4a34",
   "metadata": {},
   "source": [
    "Abstraction is a way of representing some specific data.\n",
    "Encapsulation is a way of hiding some importand code so that no one can change it. like = bank balance\n",
    "EXAMPLE : -"
   ]
  },
  {
   "cell_type": "raw",
   "id": "9c6de58e-b624-4880-9bd2-1e7f8e6c36fa",
   "metadata": {},
   "source": [
    "Abstraction = [call recive and call cancle button in mobile when call is come.\n",
    "we only see call recive (GREEN) button and call cancle (RED) button. but we don't see the code writen behind both [(GREEN) , (RED)] button.]\n",
    "\n",
    "Encapsulation =  when you create a class, you are implementing encapsulation. if you want."
   ]
  },
  {
   "cell_type": "markdown",
   "id": "b7aa3973-c706-43f4-a9ec-681e1ce12bae",
   "metadata": {},
   "source": [
    "Q3. What is abc module in python? Why is it used?"
   ]
  },
  {
   "cell_type": "markdown",
   "id": "41e52fed-3401-4df7-abcc-6596743e9b01",
   "metadata": {},
   "source": [
    "Ans 3 --"
   ]
  },
  {
   "cell_type": "raw",
   "id": "c92f7e0b-38ae-4a51-943a-4dc3759c7cf5",
   "metadata": {},
   "source": [
    "provides the infrastructure for defining abstract base classes (ABCs) in Python.\n",
    "provides the infrastructure for defining custom abstract base classes."
   ]
  },
  {
   "cell_type": "markdown",
   "id": "18c72366-ff16-4ec7-9dcc-5c018304c028",
   "metadata": {},
   "source": [
    "Q4. How can we achieve data abstraction?"
   ]
  },
  {
   "cell_type": "markdown",
   "id": "90a6b205-0d75-44c5-b40c-b38d93a0f70e",
   "metadata": {},
   "source": [
    "Ans 4 --"
   ]
  },
  {
   "cell_type": "markdown",
   "id": "ff0b96ac-1601-4e0a-ab8a-4dac1ac1c39e",
   "metadata": {},
   "source": [
    "In Python, abstraction can be achieved by having/using abstract classes and methods in our programs."
   ]
  },
  {
   "cell_type": "markdown",
   "id": "3556fbf0-ab83-4178-b450-a8ae87c2df32",
   "metadata": {},
   "source": [
    "Q5. Can we create an instance of an abstract class? Explain your answer."
   ]
  },
  {
   "cell_type": "markdown",
   "id": "4316a0e7-3254-4029-a02d-5135a09ccb64",
   "metadata": {},
   "source": [
    "Ans 5 --"
   ]
  },
  {
   "cell_type": "markdown",
   "id": "bbea119b-09ce-40bf-9cbc-78cbf0b21d57",
   "metadata": {},
   "source": [
    "No, we can't creat an instance of an abstract class,\n",
    "because Because an abstract class is an incomplete class."
   ]
  },
  {
   "cell_type": "code",
   "execution_count": null,
   "id": "db4eb264-5bb9-4064-8097-da568644a5f1",
   "metadata": {},
   "outputs": [],
   "source": []
  }
 ],
 "metadata": {
  "kernelspec": {
   "display_name": "Python 3 (ipykernel)",
   "language": "python",
   "name": "python3"
  },
  "language_info": {
   "codemirror_mode": {
    "name": "ipython",
    "version": 3
   },
   "file_extension": ".py",
   "mimetype": "text/x-python",
   "name": "python",
   "nbconvert_exporter": "python",
   "pygments_lexer": "ipython3",
   "version": "3.10.8"
  }
 },
 "nbformat": 4,
 "nbformat_minor": 5
}
